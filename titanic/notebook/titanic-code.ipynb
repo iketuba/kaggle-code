{
 "cells": [
  {
   "cell_type": "markdown",
   "id": "a95e240a",
   "metadata": {
    "papermill": {
     "duration": 0.062487,
     "end_time": "2022-03-11T17:05:08.423016",
     "exception": false,
     "start_time": "2022-03-11T17:05:08.360529",
     "status": "completed"
    },
    "tags": []
   },
   "source": [
    "# 1. データの読み込みと確認"
   ]
  },
  {
   "cell_type": "markdown",
   "id": "83c8229d",
   "metadata": {
    "papermill": {
     "duration": 0.059987,
     "end_time": "2022-03-11T17:05:08.543878",
     "exception": false,
     "start_time": "2022-03-11T17:05:08.483891",
     "status": "completed"
    },
    "tags": []
   },
   "source": [
    "初めに使用するライブラリを読み込みます。numpy, pandas, sklearnはよく使用するので、ブックマークしておくと良いと思います。<br>\n",
    "[numpy](https://numpy.org/doc/1.21/index.html#)\n",
    "[pandas](https://pandas.pydata.org/docs/#)\n",
    "[matplotlib](https://matplotlib.org/stable/index.html)\n",
    "[sklearn](https://scikit-learn.org/stable/index.html)"
   ]
  },
  {
   "cell_type": "code",
   "execution_count": 1,
   "id": "ebc08d87",
   "metadata": {
    "execution": {
     "iopub.execute_input": "2022-03-11T17:05:08.666632Z",
     "iopub.status.busy": "2022-03-11T17:05:08.665954Z",
     "iopub.status.idle": "2022-03-11T17:05:10.112437Z",
     "shell.execute_reply": "2022-03-11T17:05:10.111863Z",
     "shell.execute_reply.started": "2022-03-11T16:51:18.138617Z"
    },
    "papermill": {
     "duration": 1.508829,
     "end_time": "2022-03-11T17:05:10.112579",
     "exception": false,
     "start_time": "2022-03-11T17:05:08.603750",
     "status": "completed"
    },
    "tags": []
   },
   "outputs": [],
   "source": [
    "# ライブラリの読み込み\n",
    "import pandas as pd\n",
    "import numpy as np\n",
    "import matplotlib.pyplot as plt\n",
    "import seaborn as sns\n",
    "import sklearn\n",
    "from sklearn import ensemble\n",
    "from sklearn import linear_model\n",
    "from sklearn import model_selection\n",
    "from sklearn import preprocessing\n",
    "\n",
    "# 不要な警告を無視する\n",
    "import warnings\n",
    "warnings.filterwarnings('ignore')"
   ]
  },
  {
   "cell_type": "markdown",
   "id": "e1a6efe2",
   "metadata": {
    "papermill": {
     "duration": 0.060746,
     "end_time": "2022-03-11T17:05:10.235014",
     "exception": false,
     "start_time": "2022-03-11T17:05:10.174268",
     "status": "completed"
    },
    "tags": []
   },
   "source": [
    "pandasのread_csv関数を用いて、分析する訓練データtrain.csvとテストデータtest.csvを読み込みます。<br>\n",
    "[read_csv](https://pandas.pydata.org/docs/reference/api/pandas.read_csv.html?highlight=read_csv#pandas.read_csv)"
   ]
  },
  {
   "cell_type": "code",
   "execution_count": 2,
   "id": "b5cf20d7",
   "metadata": {
    "execution": {
     "iopub.execute_input": "2022-03-11T17:05:10.363099Z",
     "iopub.status.busy": "2022-03-11T17:05:10.362406Z",
     "iopub.status.idle": "2022-03-11T17:05:10.393825Z",
     "shell.execute_reply": "2022-03-11T17:05:10.393168Z",
     "shell.execute_reply.started": "2022-03-11T16:51:18.785553Z"
    },
    "papermill": {
     "duration": 0.097636,
     "end_time": "2022-03-11T17:05:10.393955",
     "exception": false,
     "start_time": "2022-03-11T17:05:10.296319",
     "status": "completed"
    },
    "tags": []
   },
   "outputs": [],
   "source": [
    "# 学習用データ、テストデータ、提出サンプルデータの読み込み\n",
    "train = pd.read_csv('../input/train.csv')\n",
    "test = pd.read_csv('../input/test.csv')\n",
    "sample = pd.read_csv('../input/gender_submission.csv')"
   ]
  },
  {
   "cell_type": "markdown",
   "id": "f05129f8",
   "metadata": {
    "papermill": {
     "duration": 0.06066,
     "end_time": "2022-03-11T17:05:10.515385",
     "exception": false,
     "start_time": "2022-03-11T17:05:10.454725",
     "status": "completed"
    },
    "tags": []
   },
   "source": [
    "データを見ていく上で、まず初めにデータのサイズを確認してみます。"
   ]
  },
  {
   "cell_type": "code",
   "execution_count": 3,
   "id": "b10b7d71",
   "metadata": {
    "execution": {
     "iopub.execute_input": "2022-03-11T17:05:10.640070Z",
     "iopub.status.busy": "2022-03-11T17:05:10.639369Z",
     "iopub.status.idle": "2022-03-11T17:05:10.645109Z",
     "shell.execute_reply": "2022-03-11T17:05:10.645610Z",
     "shell.execute_reply.started": "2022-03-11T16:51:18.809045Z"
    },
    "papermill": {
     "duration": 0.069913,
     "end_time": "2022-03-11T17:05:10.645790",
     "exception": false,
     "start_time": "2022-03-11T17:05:10.575877",
     "status": "completed"
    },
    "tags": []
   },
   "outputs": [
    {
     "name": "stdout",
     "output_type": "stream",
     "text": [
      "学習データのサイズ: (891, 12)\n",
      "テストデータのサイズ: (418, 11)\n"
     ]
    }
   ],
   "source": [
    "# データサイズの確認\n",
    "print('学習データのサイズ:', train.shape)\n",
    "print('テストデータのサイズ:', test.shape)"
   ]
  },
  {
   "cell_type": "markdown",
   "id": "a885498d",
   "metadata": {
    "papermill": {
     "duration": 0.059794,
     "end_time": "2022-03-11T17:05:10.767142",
     "exception": false,
     "start_time": "2022-03-11T17:05:10.707348",
     "status": "completed"
    },
    "tags": []
   },
   "source": [
    "データの情報を確認します。<br>\n",
    "[info](https://pandas.pydata.org/docs/reference/api/pandas.DataFrame.info.html?highlight=info#pandas.DataFrame.info)"
   ]
  },
  {
   "cell_type": "code",
   "execution_count": 4,
   "id": "c5645f1a",
   "metadata": {
    "execution": {
     "iopub.execute_input": "2022-03-11T17:05:10.891085Z",
     "iopub.status.busy": "2022-03-11T17:05:10.890458Z",
     "iopub.status.idle": "2022-03-11T17:05:10.924936Z",
     "shell.execute_reply": "2022-03-11T17:05:10.924310Z",
     "shell.execute_reply.started": "2022-03-11T16:51:18.818997Z"
    },
    "papermill": {
     "duration": 0.097805,
     "end_time": "2022-03-11T17:05:10.925100",
     "exception": false,
     "start_time": "2022-03-11T17:05:10.827295",
     "status": "completed"
    },
    "tags": []
   },
   "outputs": [
    {
     "name": "stdout",
     "output_type": "stream",
     "text": [
      "<class 'pandas.core.frame.DataFrame'>\n",
      "RangeIndex: 891 entries, 0 to 890\n",
      "Data columns (total 12 columns):\n",
      " #   Column       Non-Null Count  Dtype  \n",
      "---  ------       --------------  -----  \n",
      " 0   PassengerId  891 non-null    int64  \n",
      " 1   Survived     891 non-null    int64  \n",
      " 2   Pclass       891 non-null    int64  \n",
      " 3   Name         891 non-null    object \n",
      " 4   Sex          891 non-null    object \n",
      " 5   Age          714 non-null    float64\n",
      " 6   SibSp        891 non-null    int64  \n",
      " 7   Parch        891 non-null    int64  \n",
      " 8   Ticket       891 non-null    object \n",
      " 9   Fare         891 non-null    float64\n",
      " 10  Cabin        204 non-null    object \n",
      " 11  Embarked     889 non-null    object \n",
      "dtypes: float64(2), int64(5), object(5)\n",
      "memory usage: 83.7+ KB\n",
      "None \n",
      "\n",
      "<class 'pandas.core.frame.DataFrame'>\n",
      "RangeIndex: 418 entries, 0 to 417\n",
      "Data columns (total 11 columns):\n",
      " #   Column       Non-Null Count  Dtype  \n",
      "---  ------       --------------  -----  \n",
      " 0   PassengerId  418 non-null    int64  \n",
      " 1   Pclass       418 non-null    int64  \n",
      " 2   Name         418 non-null    object \n",
      " 3   Sex          418 non-null    object \n",
      " 4   Age          332 non-null    float64\n",
      " 5   SibSp        418 non-null    int64  \n",
      " 6   Parch        418 non-null    int64  \n",
      " 7   Ticket       418 non-null    object \n",
      " 8   Fare         417 non-null    float64\n",
      " 9   Cabin        91 non-null     object \n",
      " 10  Embarked     418 non-null    object \n",
      "dtypes: float64(2), int64(4), object(5)\n",
      "memory usage: 36.0+ KB\n",
      "None\n"
     ]
    }
   ],
   "source": [
    "# データの情報の確認\n",
    "print(train.info(), '\\n')\n",
    "print(test.info())"
   ]
  },
  {
   "cell_type": "markdown",
   "id": "3bc7e88b",
   "metadata": {
    "papermill": {
     "duration": 0.063016,
     "end_time": "2022-03-11T17:05:11.050488",
     "exception": false,
     "start_time": "2022-03-11T17:05:10.987472",
     "status": "completed"
    },
    "tags": []
   },
   "source": [
    "学習データ、テストデータ、提出サンプルデータについて先頭の5行を表示します。"
   ]
  },
  {
   "cell_type": "code",
   "execution_count": 5,
   "id": "6614017d",
   "metadata": {
    "execution": {
     "iopub.execute_input": "2022-03-11T17:05:11.178253Z",
     "iopub.status.busy": "2022-03-11T17:05:11.177608Z",
     "iopub.status.idle": "2022-03-11T17:05:11.199380Z",
     "shell.execute_reply": "2022-03-11T17:05:11.200386Z",
     "shell.execute_reply.started": "2022-03-11T16:51:18.849498Z"
    },
    "papermill": {
     "duration": 0.087555,
     "end_time": "2022-03-11T17:05:11.200595",
     "exception": false,
     "start_time": "2022-03-11T17:05:11.113040",
     "status": "completed"
    },
    "tags": []
   },
   "outputs": [
    {
     "data": {
      "text/html": [
       "<div>\n",
       "<style scoped>\n",
       "    .dataframe tbody tr th:only-of-type {\n",
       "        vertical-align: middle;\n",
       "    }\n",
       "\n",
       "    .dataframe tbody tr th {\n",
       "        vertical-align: top;\n",
       "    }\n",
       "\n",
       "    .dataframe thead th {\n",
       "        text-align: right;\n",
       "    }\n",
       "</style>\n",
       "<table border=\"1\" class=\"dataframe\">\n",
       "  <thead>\n",
       "    <tr style=\"text-align: right;\">\n",
       "      <th></th>\n",
       "      <th>PassengerId</th>\n",
       "      <th>Survived</th>\n",
       "      <th>Pclass</th>\n",
       "      <th>Name</th>\n",
       "      <th>Sex</th>\n",
       "      <th>Age</th>\n",
       "      <th>SibSp</th>\n",
       "      <th>Parch</th>\n",
       "      <th>Ticket</th>\n",
       "      <th>Fare</th>\n",
       "      <th>Cabin</th>\n",
       "      <th>Embarked</th>\n",
       "    </tr>\n",
       "  </thead>\n",
       "  <tbody>\n",
       "    <tr>\n",
       "      <th>0</th>\n",
       "      <td>1</td>\n",
       "      <td>0</td>\n",
       "      <td>3</td>\n",
       "      <td>Braund, Mr. Owen Harris</td>\n",
       "      <td>male</td>\n",
       "      <td>22.0</td>\n",
       "      <td>1</td>\n",
       "      <td>0</td>\n",
       "      <td>A/5 21171</td>\n",
       "      <td>7.2500</td>\n",
       "      <td>NaN</td>\n",
       "      <td>S</td>\n",
       "    </tr>\n",
       "    <tr>\n",
       "      <th>1</th>\n",
       "      <td>2</td>\n",
       "      <td>1</td>\n",
       "      <td>1</td>\n",
       "      <td>Cumings, Mrs. John Bradley (Florence Briggs Th...</td>\n",
       "      <td>female</td>\n",
       "      <td>38.0</td>\n",
       "      <td>1</td>\n",
       "      <td>0</td>\n",
       "      <td>PC 17599</td>\n",
       "      <td>71.2833</td>\n",
       "      <td>C85</td>\n",
       "      <td>C</td>\n",
       "    </tr>\n",
       "    <tr>\n",
       "      <th>2</th>\n",
       "      <td>3</td>\n",
       "      <td>1</td>\n",
       "      <td>3</td>\n",
       "      <td>Heikkinen, Miss. Laina</td>\n",
       "      <td>female</td>\n",
       "      <td>26.0</td>\n",
       "      <td>0</td>\n",
       "      <td>0</td>\n",
       "      <td>STON/O2. 3101282</td>\n",
       "      <td>7.9250</td>\n",
       "      <td>NaN</td>\n",
       "      <td>S</td>\n",
       "    </tr>\n",
       "    <tr>\n",
       "      <th>3</th>\n",
       "      <td>4</td>\n",
       "      <td>1</td>\n",
       "      <td>1</td>\n",
       "      <td>Futrelle, Mrs. Jacques Heath (Lily May Peel)</td>\n",
       "      <td>female</td>\n",
       "      <td>35.0</td>\n",
       "      <td>1</td>\n",
       "      <td>0</td>\n",
       "      <td>113803</td>\n",
       "      <td>53.1000</td>\n",
       "      <td>C123</td>\n",
       "      <td>S</td>\n",
       "    </tr>\n",
       "    <tr>\n",
       "      <th>4</th>\n",
       "      <td>5</td>\n",
       "      <td>0</td>\n",
       "      <td>3</td>\n",
       "      <td>Allen, Mr. William Henry</td>\n",
       "      <td>male</td>\n",
       "      <td>35.0</td>\n",
       "      <td>0</td>\n",
       "      <td>0</td>\n",
       "      <td>373450</td>\n",
       "      <td>8.0500</td>\n",
       "      <td>NaN</td>\n",
       "      <td>S</td>\n",
       "    </tr>\n",
       "  </tbody>\n",
       "</table>\n",
       "</div>"
      ],
      "text/plain": [
       "   PassengerId  Survived  Pclass  \\\n",
       "0            1         0       3   \n",
       "1            2         1       1   \n",
       "2            3         1       3   \n",
       "3            4         1       1   \n",
       "4            5         0       3   \n",
       "\n",
       "                                                Name     Sex   Age  SibSp  \\\n",
       "0                            Braund, Mr. Owen Harris    male  22.0      1   \n",
       "1  Cumings, Mrs. John Bradley (Florence Briggs Th...  female  38.0      1   \n",
       "2                             Heikkinen, Miss. Laina  female  26.0      0   \n",
       "3       Futrelle, Mrs. Jacques Heath (Lily May Peel)  female  35.0      1   \n",
       "4                           Allen, Mr. William Henry    male  35.0      0   \n",
       "\n",
       "   Parch            Ticket     Fare Cabin Embarked  \n",
       "0      0         A/5 21171   7.2500   NaN        S  \n",
       "1      0          PC 17599  71.2833   C85        C  \n",
       "2      0  STON/O2. 3101282   7.9250   NaN        S  \n",
       "3      0            113803  53.1000  C123        S  \n",
       "4      0            373450   8.0500   NaN        S  "
      ]
     },
     "execution_count": 5,
     "metadata": {},
     "output_type": "execute_result"
    }
   ],
   "source": [
    "# 学習データの先頭5行を表示\n",
    "train.head()"
   ]
  },
  {
   "cell_type": "code",
   "execution_count": 6,
   "id": "006e6060",
   "metadata": {
    "execution": {
     "iopub.execute_input": "2022-03-11T17:05:11.328279Z",
     "iopub.status.busy": "2022-03-11T17:05:11.327654Z",
     "iopub.status.idle": "2022-03-11T17:05:11.341030Z",
     "shell.execute_reply": "2022-03-11T17:05:11.341552Z",
     "shell.execute_reply.started": "2022-03-11T16:51:18.875416Z"
    },
    "papermill": {
     "duration": 0.078288,
     "end_time": "2022-03-11T17:05:11.341710",
     "exception": false,
     "start_time": "2022-03-11T17:05:11.263422",
     "status": "completed"
    },
    "tags": []
   },
   "outputs": [
    {
     "data": {
      "text/html": [
       "<div>\n",
       "<style scoped>\n",
       "    .dataframe tbody tr th:only-of-type {\n",
       "        vertical-align: middle;\n",
       "    }\n",
       "\n",
       "    .dataframe tbody tr th {\n",
       "        vertical-align: top;\n",
       "    }\n",
       "\n",
       "    .dataframe thead th {\n",
       "        text-align: right;\n",
       "    }\n",
       "</style>\n",
       "<table border=\"1\" class=\"dataframe\">\n",
       "  <thead>\n",
       "    <tr style=\"text-align: right;\">\n",
       "      <th></th>\n",
       "      <th>PassengerId</th>\n",
       "      <th>Pclass</th>\n",
       "      <th>Name</th>\n",
       "      <th>Sex</th>\n",
       "      <th>Age</th>\n",
       "      <th>SibSp</th>\n",
       "      <th>Parch</th>\n",
       "      <th>Ticket</th>\n",
       "      <th>Fare</th>\n",
       "      <th>Cabin</th>\n",
       "      <th>Embarked</th>\n",
       "    </tr>\n",
       "  </thead>\n",
       "  <tbody>\n",
       "    <tr>\n",
       "      <th>0</th>\n",
       "      <td>892</td>\n",
       "      <td>3</td>\n",
       "      <td>Kelly, Mr. James</td>\n",
       "      <td>male</td>\n",
       "      <td>34.5</td>\n",
       "      <td>0</td>\n",
       "      <td>0</td>\n",
       "      <td>330911</td>\n",
       "      <td>7.8292</td>\n",
       "      <td>NaN</td>\n",
       "      <td>Q</td>\n",
       "    </tr>\n",
       "    <tr>\n",
       "      <th>1</th>\n",
       "      <td>893</td>\n",
       "      <td>3</td>\n",
       "      <td>Wilkes, Mrs. James (Ellen Needs)</td>\n",
       "      <td>female</td>\n",
       "      <td>47.0</td>\n",
       "      <td>1</td>\n",
       "      <td>0</td>\n",
       "      <td>363272</td>\n",
       "      <td>7.0000</td>\n",
       "      <td>NaN</td>\n",
       "      <td>S</td>\n",
       "    </tr>\n",
       "    <tr>\n",
       "      <th>2</th>\n",
       "      <td>894</td>\n",
       "      <td>2</td>\n",
       "      <td>Myles, Mr. Thomas Francis</td>\n",
       "      <td>male</td>\n",
       "      <td>62.0</td>\n",
       "      <td>0</td>\n",
       "      <td>0</td>\n",
       "      <td>240276</td>\n",
       "      <td>9.6875</td>\n",
       "      <td>NaN</td>\n",
       "      <td>Q</td>\n",
       "    </tr>\n",
       "    <tr>\n",
       "      <th>3</th>\n",
       "      <td>895</td>\n",
       "      <td>3</td>\n",
       "      <td>Wirz, Mr. Albert</td>\n",
       "      <td>male</td>\n",
       "      <td>27.0</td>\n",
       "      <td>0</td>\n",
       "      <td>0</td>\n",
       "      <td>315154</td>\n",
       "      <td>8.6625</td>\n",
       "      <td>NaN</td>\n",
       "      <td>S</td>\n",
       "    </tr>\n",
       "    <tr>\n",
       "      <th>4</th>\n",
       "      <td>896</td>\n",
       "      <td>3</td>\n",
       "      <td>Hirvonen, Mrs. Alexander (Helga E Lindqvist)</td>\n",
       "      <td>female</td>\n",
       "      <td>22.0</td>\n",
       "      <td>1</td>\n",
       "      <td>1</td>\n",
       "      <td>3101298</td>\n",
       "      <td>12.2875</td>\n",
       "      <td>NaN</td>\n",
       "      <td>S</td>\n",
       "    </tr>\n",
       "  </tbody>\n",
       "</table>\n",
       "</div>"
      ],
      "text/plain": [
       "   PassengerId  Pclass                                          Name     Sex  \\\n",
       "0          892       3                              Kelly, Mr. James    male   \n",
       "1          893       3              Wilkes, Mrs. James (Ellen Needs)  female   \n",
       "2          894       2                     Myles, Mr. Thomas Francis    male   \n",
       "3          895       3                              Wirz, Mr. Albert    male   \n",
       "4          896       3  Hirvonen, Mrs. Alexander (Helga E Lindqvist)  female   \n",
       "\n",
       "    Age  SibSp  Parch   Ticket     Fare Cabin Embarked  \n",
       "0  34.5      0      0   330911   7.8292   NaN        Q  \n",
       "1  47.0      1      0   363272   7.0000   NaN        S  \n",
       "2  62.0      0      0   240276   9.6875   NaN        Q  \n",
       "3  27.0      0      0   315154   8.6625   NaN        S  \n",
       "4  22.0      1      1  3101298  12.2875   NaN        S  "
      ]
     },
     "execution_count": 6,
     "metadata": {},
     "output_type": "execute_result"
    }
   ],
   "source": [
    "# テストデータの先頭5行を表示\n",
    "test.head()"
   ]
  },
  {
   "cell_type": "code",
   "execution_count": 7,
   "id": "1a191a38",
   "metadata": {
    "execution": {
     "iopub.execute_input": "2022-03-11T17:05:11.472186Z",
     "iopub.status.busy": "2022-03-11T17:05:11.471506Z",
     "iopub.status.idle": "2022-03-11T17:05:11.479678Z",
     "shell.execute_reply": "2022-03-11T17:05:11.479132Z",
     "shell.execute_reply.started": "2022-03-11T16:51:18.895463Z"
    },
    "papermill": {
     "duration": 0.074482,
     "end_time": "2022-03-11T17:05:11.479817",
     "exception": false,
     "start_time": "2022-03-11T17:05:11.405335",
     "status": "completed"
    },
    "tags": []
   },
   "outputs": [
    {
     "data": {
      "text/html": [
       "<div>\n",
       "<style scoped>\n",
       "    .dataframe tbody tr th:only-of-type {\n",
       "        vertical-align: middle;\n",
       "    }\n",
       "\n",
       "    .dataframe tbody tr th {\n",
       "        vertical-align: top;\n",
       "    }\n",
       "\n",
       "    .dataframe thead th {\n",
       "        text-align: right;\n",
       "    }\n",
       "</style>\n",
       "<table border=\"1\" class=\"dataframe\">\n",
       "  <thead>\n",
       "    <tr style=\"text-align: right;\">\n",
       "      <th></th>\n",
       "      <th>PassengerId</th>\n",
       "      <th>Survived</th>\n",
       "    </tr>\n",
       "  </thead>\n",
       "  <tbody>\n",
       "    <tr>\n",
       "      <th>0</th>\n",
       "      <td>892</td>\n",
       "      <td>0</td>\n",
       "    </tr>\n",
       "    <tr>\n",
       "      <th>1</th>\n",
       "      <td>893</td>\n",
       "      <td>1</td>\n",
       "    </tr>\n",
       "    <tr>\n",
       "      <th>2</th>\n",
       "      <td>894</td>\n",
       "      <td>0</td>\n",
       "    </tr>\n",
       "    <tr>\n",
       "      <th>3</th>\n",
       "      <td>895</td>\n",
       "      <td>0</td>\n",
       "    </tr>\n",
       "    <tr>\n",
       "      <th>4</th>\n",
       "      <td>896</td>\n",
       "      <td>1</td>\n",
       "    </tr>\n",
       "  </tbody>\n",
       "</table>\n",
       "</div>"
      ],
      "text/plain": [
       "   PassengerId  Survived\n",
       "0          892         0\n",
       "1          893         1\n",
       "2          894         0\n",
       "3          895         0\n",
       "4          896         1"
      ]
     },
     "execution_count": 7,
     "metadata": {},
     "output_type": "execute_result"
    }
   ],
   "source": [
    "# 提出サンプルデータの先頭5行を表示\n",
    "sample.head()"
   ]
  },
  {
   "cell_type": "markdown",
   "id": "b01f59a3",
   "metadata": {
    "papermill": {
     "duration": 0.064652,
     "end_time": "2022-03-11T17:05:11.608377",
     "exception": false,
     "start_time": "2022-03-11T17:05:11.543725",
     "status": "completed"
    },
    "tags": []
   },
   "source": [
    "学習用データを特徴量と目的変数に分けます。この際、特徴量には_x、目的変数には_yをつけました。目的変数は'Survived'です。テストデータには目的変数はなく特徴量だけなので分ける必要はないです。学習用データと同じようにテストデータには_xをつけました。<br>\n",
    "[drop](https://pandas.pydata.org/docs/reference/api/pandas.DataFrame.drop.html?highlight=drop#pandas.DataFrame.drop)"
   ]
  },
  {
   "cell_type": "code",
   "execution_count": 8,
   "id": "48ad374e",
   "metadata": {
    "execution": {
     "iopub.execute_input": "2022-03-11T17:05:11.745915Z",
     "iopub.status.busy": "2022-03-11T17:05:11.745278Z",
     "iopub.status.idle": "2022-03-11T17:05:11.747948Z",
     "shell.execute_reply": "2022-03-11T17:05:11.747357Z",
     "shell.execute_reply.started": "2022-03-11T16:51:18.911574Z"
    },
    "papermill": {
     "duration": 0.07519,
     "end_time": "2022-03-11T17:05:11.748100",
     "exception": false,
     "start_time": "2022-03-11T17:05:11.672910",
     "status": "completed"
    },
    "tags": []
   },
   "outputs": [],
   "source": [
    "# 学習用データを特徴量と目的変数に分ける\n",
    "train_x = train.drop(['Survived'], axis=1)\n",
    "train_y = train['Survived']\n",
    "\n",
    "# テストデータは特徴量のみなのでそのままで良い\n",
    "test_x = test.copy()"
   ]
  },
  {
   "cell_type": "code",
   "execution_count": 9,
   "id": "f84352d6",
   "metadata": {
    "execution": {
     "iopub.execute_input": "2022-03-11T17:05:11.879259Z",
     "iopub.status.busy": "2022-03-11T17:05:11.878546Z",
     "iopub.status.idle": "2022-03-11T17:05:12.046290Z",
     "shell.execute_reply": "2022-03-11T17:05:12.045031Z",
     "shell.execute_reply.started": "2022-03-11T16:51:18.922779Z"
    },
    "papermill": {
     "duration": 0.23546,
     "end_time": "2022-03-11T17:05:12.046587",
     "exception": false,
     "start_time": "2022-03-11T17:05:11.811127",
     "status": "completed"
    },
    "tags": []
   },
   "outputs": [
    {
     "data": {
      "text/plain": [
       "<AxesSubplot:xlabel='Survived', ylabel='count'>"
      ]
     },
     "execution_count": 9,
     "metadata": {},
     "output_type": "execute_result"
    },
    {
     "data": {
      "image/png": "[encoded data removed]",
      "text/plain": [
       "<Figure size 432x288 with 1 Axes>"
      ]
     },
     "metadata": {
      "needs_background": "light"
     },
     "output_type": "display_data"
    }
   ],
   "source": [
    "# 'Survived'の分布\n",
    "sns.countplot(data=train, x='Survived')"
   ]
  },
  {
   "cell_type": "markdown",
   "id": "74a63bf9",
   "metadata": {
    "papermill": {
     "duration": 0.064197,
     "end_time": "2022-03-11T17:05:12.176646",
     "exception": false,
     "start_time": "2022-03-11T17:05:12.112449",
     "status": "completed"
    },
    "tags": []
   },
   "source": [
    "# 2. 特徴量の作成"
   ]
  },
  {
   "cell_type": "markdown",
   "id": "03da6831",
   "metadata": {
    "papermill": {
     "duration": 0.063586,
     "end_time": "2022-03-11T17:05:12.304361",
     "exception": false,
     "start_time": "2022-03-11T17:05:12.240775",
     "status": "completed"
    },
    "tags": []
   },
   "source": [
    "学習用データとテストデータの欠損値を確認します。train_x.isnull().sum()とすると、学習用データの特徴量ごとの欠損数を出力することができます。さらにtrain_x.isnull().sum().sort_values(ascending=False)を加えることで、欠損数が多い順に並び替えることができます。"
   ]
  },
  {
   "cell_type": "code",
   "execution_count": 10,
   "id": "3f009ba1",
   "metadata": {
    "execution": {
     "iopub.execute_input": "2022-03-11T17:05:12.437050Z",
     "iopub.status.busy": "2022-03-11T17:05:12.436452Z",
     "iopub.status.idle": "2022-03-11T17:05:12.447630Z",
     "shell.execute_reply": "2022-03-11T17:05:12.448180Z",
     "shell.execute_reply.started": "2022-03-11T16:51:19.088912Z"
    },
    "papermill": {
     "duration": 0.078936,
     "end_time": "2022-03-11T17:05:12.448326",
     "exception": false,
     "start_time": "2022-03-11T17:05:12.369390",
     "status": "completed"
    },
    "tags": []
   },
   "outputs": [
    {
     "name": "stdout",
     "output_type": "stream",
     "text": [
      "訓練データの欠損値:\n",
      " Cabin          687\n",
      "Age            177\n",
      "Embarked         2\n",
      "PassengerId      0\n",
      "Pclass           0\n",
      "Name             0\n",
      "Sex              0\n",
      "SibSp            0\n",
      "Parch            0\n",
      "Ticket           0\n",
      "Fare             0\n",
      "dtype: int64 \n",
      "\n",
      "テストデータの欠損値:\n",
      " Cabin          327\n",
      "Age             86\n",
      "Fare             1\n",
      "PassengerId      0\n",
      "Pclass           0\n",
      "Name             0\n",
      "Sex              0\n",
      "SibSp            0\n",
      "Parch            0\n",
      "Ticket           0\n",
      "Embarked         0\n",
      "dtype: int64\n"
     ]
    }
   ],
   "source": [
    "#学習データの欠損値を確認する\n",
    "print('訓練データの欠損値:\\n', train_x.isnull().sum().sort_values(ascending=False), '\\n')\n",
    "#テストデータの欠損値を確認する\n",
    "print('テストデータの欠損値:\\n', test_x.isnull().sum().sort_values(ascending=False))"
   ]
  },
  {
   "cell_type": "markdown",
   "id": "b36c82c7",
   "metadata": {
    "papermill": {
     "duration": 0.065834,
     "end_time": "2022-03-11T17:05:12.579337",
     "exception": false,
     "start_time": "2022-03-11T17:05:12.513503",
     "status": "completed"
    },
    "tags": []
   },
   "source": [
    "'PassengerId'は乗客に番号を振っているだけであり、目的変数に影響を与えないため、削除します。"
   ]
  },
  {
   "cell_type": "code",
   "execution_count": 11,
   "id": "aa5f7358",
   "metadata": {
    "execution": {
     "iopub.execute_input": "2022-03-11T17:05:12.718470Z",
     "iopub.status.busy": "2022-03-11T17:05:12.717677Z",
     "iopub.status.idle": "2022-03-11T17:05:12.720388Z",
     "shell.execute_reply": "2022-03-11T17:05:12.719719Z",
     "shell.execute_reply.started": "2022-03-11T16:51:19.108000Z"
    },
    "papermill": {
     "duration": 0.075084,
     "end_time": "2022-03-11T17:05:12.720517",
     "exception": false,
     "start_time": "2022-03-11T17:05:12.645433",
     "status": "completed"
    },
    "tags": []
   },
   "outputs": [],
   "source": [
    "train_x = train_x.drop(['PassengerId'], axis=1)\n",
    "test_x = test_x.drop(['PassengerId'], axis=1)"
   ]
  },
  {
   "cell_type": "markdown",
   "id": "98f81ee7",
   "metadata": {
    "papermill": {
     "duration": 0.066463,
     "end_time": "2022-03-11T17:05:12.853641",
     "exception": false,
     "start_time": "2022-03-11T17:05:12.787178",
     "status": "completed"
    },
    "tags": []
   },
   "source": [
    "'Name', 'Ticket', 'Cabin'も上手く使えば予測に有用ですが、煩雑な処理\n",
    "が必要そうなので、今回はこれらの変数を使わないことにします。"
   ]
  },
  {
   "cell_type": "code",
   "execution_count": 12,
   "id": "4eba0185",
   "metadata": {
    "execution": {
     "iopub.execute_input": "2022-03-11T17:05:12.990204Z",
     "iopub.status.busy": "2022-03-11T17:05:12.989508Z",
     "iopub.status.idle": "2022-03-11T17:05:12.994809Z",
     "shell.execute_reply": "2022-03-11T17:05:12.995313Z",
     "shell.execute_reply.started": "2022-03-11T16:51:19.123589Z"
    },
    "papermill": {
     "duration": 0.075324,
     "end_time": "2022-03-11T17:05:12.995485",
     "exception": false,
     "start_time": "2022-03-11T17:05:12.920161",
     "status": "completed"
    },
    "tags": []
   },
   "outputs": [],
   "source": [
    "# 欠損値が多すぎる特徴量、予測に無関係と考えられる特徴量を削除する\n",
    "drop_col = ['Name','Ticket', 'Cabin']\n",
    "train_x = train_x.drop(drop_col, axis=1)\n",
    "test_x = test_x.drop(drop_col, axis=1)"
   ]
  },
  {
   "cell_type": "markdown",
   "id": "b2323646",
   "metadata": {
    "papermill": {
     "duration": 0.065661,
     "end_time": "2022-03-11T17:05:13.127580",
     "exception": false,
     "start_time": "2022-03-11T17:05:13.061919",
     "status": "completed"
    },
    "tags": []
   },
   "source": [
    "もう一度欠損数を確認します。"
   ]
  },
  {
   "cell_type": "code",
   "execution_count": 13,
   "id": "1c188189",
   "metadata": {
    "execution": {
     "iopub.execute_input": "2022-03-11T17:05:13.261743Z",
     "iopub.status.busy": "2022-03-11T17:05:13.261111Z",
     "iopub.status.idle": "2022-03-11T17:05:13.273223Z",
     "shell.execute_reply": "2022-03-11T17:05:13.272593Z",
     "shell.execute_reply.started": "2022-03-11T16:51:19.140094Z"
    },
    "papermill": {
     "duration": 0.080423,
     "end_time": "2022-03-11T17:05:13.273364",
     "exception": false,
     "start_time": "2022-03-11T17:05:13.192941",
     "status": "completed"
    },
    "tags": []
   },
   "outputs": [
    {
     "name": "stdout",
     "output_type": "stream",
     "text": [
      "訓練データの欠損値:\n",
      " Age         177\n",
      "Embarked      2\n",
      "Pclass        0\n",
      "Sex           0\n",
      "SibSp         0\n",
      "Parch         0\n",
      "Fare          0\n",
      "dtype: int64 \n",
      "\n",
      "テストデータの欠損値:\n",
      " Age         86\n",
      "Fare         1\n",
      "Pclass       0\n",
      "Sex          0\n",
      "SibSp        0\n",
      "Parch        0\n",
      "Embarked     0\n",
      "dtype: int64\n"
     ]
    }
   ],
   "source": [
    "#学習データの欠損値を確認する\n",
    "print('訓練データの欠損値:\\n', train_x.isnull().sum().sort_values(ascending=False), '\\n')\n",
    "#テストデータの欠損値を確認する\n",
    "print('テストデータの欠損値:\\n', test_x.isnull().sum().sort_values(ascending=False))"
   ]
  },
  {
   "cell_type": "markdown",
   "id": "b5779e9b",
   "metadata": {
    "papermill": {
     "duration": 0.066474,
     "end_time": "2022-03-11T17:05:13.406757",
     "exception": false,
     "start_time": "2022-03-11T17:05:13.340283",
     "status": "completed"
    },
    "tags": []
   },
   "source": [
    "'Age', 'Embarked', 'Fare'は欠損値があるため補完します。'Age'は数値変数、'Embarked'はカテゴリ変数、'Fare'は数値変数です。数値変数であるAge, Fareは平均値、カテゴリ変数であるEmbarkedは最頻値で補完します。"
   ]
  },
  {
   "cell_type": "code",
   "execution_count": 14,
   "id": "e8eeebfb",
   "metadata": {
    "execution": {
     "iopub.execute_input": "2022-03-11T17:05:13.546808Z",
     "iopub.status.busy": "2022-03-11T17:05:13.545910Z",
     "iopub.status.idle": "2022-03-11T17:05:13.781837Z",
     "shell.execute_reply": "2022-03-11T17:05:13.781190Z",
     "shell.execute_reply.started": "2022-03-11T16:51:19.158719Z"
    },
    "papermill": {
     "duration": 0.308501,
     "end_time": "2022-03-11T17:05:13.781993",
     "exception": false,
     "start_time": "2022-03-11T17:05:13.473492",
     "status": "completed"
    },
    "tags": []
   },
   "outputs": [
    {
     "data": {
      "text/plain": [
       "<AxesSubplot:xlabel='Age', ylabel='Count'>"
      ]
     },
     "execution_count": 14,
     "metadata": {},
     "output_type": "execute_result"
    },
    {
     "data": {
      "image/png": "[encoded data removed]",
      "text/plain": [
       "<Figure size 432x288 with 1 Axes>"
      ]
     },
     "metadata": {
      "needs_background": "light"
     },
     "output_type": "display_data"
    }
   ],
   "source": [
    "# 'Age'のヒストグラム\n",
    "sns.histplot(data=train_x, x='Age')"
   ]
  },
  {
   "cell_type": "code",
   "execution_count": 15,
   "id": "c31f344d",
   "metadata": {
    "execution": {
     "iopub.execute_input": "2022-03-11T17:05:13.923055Z",
     "iopub.status.busy": "2022-03-11T17:05:13.922276Z",
     "iopub.status.idle": "2022-03-11T17:05:13.927659Z",
     "shell.execute_reply": "2022-03-11T17:05:13.928211Z",
     "shell.execute_reply.started": "2022-03-11T16:51:19.475236Z"
    },
    "papermill": {
     "duration": 0.07704,
     "end_time": "2022-03-11T17:05:13.928376",
     "exception": false,
     "start_time": "2022-03-11T17:05:13.851336",
     "status": "completed"
    },
    "tags": []
   },
   "outputs": [],
   "source": [
    "# Ageカラムの欠損値を平均値で補完する\n",
    "train_x['Age'] = train_x['Age'].fillna(train_x['Age'].mean())\n",
    "test_x['Age'] = test_x['Age'].fillna(test_x['Age'].mean())"
   ]
  },
  {
   "cell_type": "code",
   "execution_count": 16,
   "id": "29d8b1be",
   "metadata": {
    "execution": {
     "iopub.execute_input": "2022-03-11T17:05:14.068779Z",
     "iopub.status.busy": "2022-03-11T17:05:14.067917Z",
     "iopub.status.idle": "2022-03-11T17:05:14.220233Z",
     "shell.execute_reply": "2022-03-11T17:05:14.221092Z",
     "shell.execute_reply.started": "2022-03-11T16:51:19.485372Z"
    },
    "papermill": {
     "duration": 0.223971,
     "end_time": "2022-03-11T17:05:14.221289",
     "exception": false,
     "start_time": "2022-03-11T17:05:13.997318",
     "status": "completed"
    },
    "tags": []
   },
   "outputs": [
    {
     "data": {
      "text/plain": [
       "<AxesSubplot:xlabel='Embarked', ylabel='count'>"
      ]
     },
     "execution_count": 16,
     "metadata": {},
     "output_type": "execute_result"
    },
    {
     "data": {
      "image/png": "[encoded data removed]",
      "text/plain": [
       "<Figure size 432x288 with 1 Axes>"
      ]
     },
     "metadata": {
      "needs_background": "light"
     },
     "output_type": "display_data"
    }
   ],
   "source": [
    "# 'Embarked'のカウントプロット\n",
    "sns.countplot(data=train_x, x='Embarked')"
   ]
  },
  {
   "cell_type": "code",
   "execution_count": 17,
   "id": "dde8f519",
   "metadata": {
    "execution": {
     "iopub.execute_input": "2022-03-11T17:05:14.370176Z",
     "iopub.status.busy": "2022-03-11T17:05:14.365898Z",
     "iopub.status.idle": "2022-03-11T17:05:14.371840Z",
     "shell.execute_reply": "2022-03-11T17:05:14.372447Z",
     "shell.execute_reply.started": "2022-03-11T16:51:19.704566Z"
    },
    "papermill": {
     "duration": 0.079941,
     "end_time": "2022-03-11T17:05:14.372611",
     "exception": false,
     "start_time": "2022-03-11T17:05:14.292670",
     "status": "completed"
    },
    "tags": []
   },
   "outputs": [],
   "source": [
    "# Embarkedカラムの欠損値を最頻値で補完する\n",
    "train_x['Embarked'] = train_x['Embarked'].fillna('S')\n",
    "test_x['Embarked'] = test_x['Embarked'].fillna('S')"
   ]
  },
  {
   "cell_type": "code",
   "execution_count": 18,
   "id": "f5a96b42",
   "metadata": {
    "execution": {
     "iopub.execute_input": "2022-03-11T17:05:14.516751Z",
     "iopub.status.busy": "2022-03-11T17:05:14.516158Z",
     "iopub.status.idle": "2022-03-11T17:05:14.903887Z",
     "shell.execute_reply": "2022-03-11T17:05:14.904437Z",
     "shell.execute_reply.started": "2022-03-11T16:51:19.712881Z"
    },
    "papermill": {
     "duration": 0.462674,
     "end_time": "2022-03-11T17:05:14.904604",
     "exception": false,
     "start_time": "2022-03-11T17:05:14.441930",
     "status": "completed"
    },
    "tags": []
   },
   "outputs": [
    {
     "data": {
      "text/plain": [
       "<AxesSubplot:xlabel='Fare', ylabel='Count'>"
      ]
     },
     "execution_count": 18,
     "metadata": {},
     "output_type": "execute_result"
    },
    {
     "data": {
      "image/png": "[encoded data removed]",
      "text/plain": [
       "<Figure size 432x288 with 1 Axes>"
      ]
     },
     "metadata": {
      "needs_background": "light"
     },
     "output_type": "display_data"
    }
   ],
   "source": [
    "# 'Fare'のヒストグラム\n",
    "sns.histplot(data=train_x, x='Fare')"
   ]
  },
  {
   "cell_type": "code",
   "execution_count": 19,
   "id": "7021fc01",
   "metadata": {
    "execution": {
     "iopub.execute_input": "2022-03-11T17:05:15.049832Z",
     "iopub.status.busy": "2022-03-11T17:05:15.049189Z",
     "iopub.status.idle": "2022-03-11T17:05:15.054888Z",
     "shell.execute_reply": "2022-03-11T17:05:15.055483Z",
     "shell.execute_reply.started": "2022-03-11T16:51:20.253900Z"
    },
    "papermill": {
     "duration": 0.0803,
     "end_time": "2022-03-11T17:05:15.055655",
     "exception": false,
     "start_time": "2022-03-11T17:05:14.975355",
     "status": "completed"
    },
    "tags": []
   },
   "outputs": [],
   "source": [
    "# Fareカラムの欠損値を平均値で補完する\n",
    "#print(train_x['Fare'].dtype)\n",
    "train_x['Fare'] = train_x['Fare'].fillna(train_x['Fare'].mean())\n",
    "test_x['Fare'] = test_x['Fare'].fillna(test_x['Fare'].mean())"
   ]
  },
  {
   "cell_type": "markdown",
   "id": "4b452fe2",
   "metadata": {
    "papermill": {
     "duration": 0.069564,
     "end_time": "2022-03-11T17:05:15.195874",
     "exception": false,
     "start_time": "2022-03-11T17:05:15.126310",
     "status": "completed"
    },
    "tags": []
   },
   "source": [
    "欠損値を全て補完したことを確認します。"
   ]
  },
  {
   "cell_type": "code",
   "execution_count": 20,
   "id": "dbb519f9",
   "metadata": {
    "execution": {
     "iopub.execute_input": "2022-03-11T17:05:15.339008Z",
     "iopub.status.busy": "2022-03-11T17:05:15.338304Z",
     "iopub.status.idle": "2022-03-11T17:05:15.346065Z",
     "shell.execute_reply": "2022-03-11T17:05:15.346590Z",
     "shell.execute_reply.started": "2022-03-11T16:51:20.267594Z"
    },
    "papermill": {
     "duration": 0.08106,
     "end_time": "2022-03-11T17:05:15.346752",
     "exception": false,
     "start_time": "2022-03-11T17:05:15.265692",
     "status": "completed"
    },
    "tags": []
   },
   "outputs": [
    {
     "name": "stdout",
     "output_type": "stream",
     "text": [
      "Pclass      0\n",
      "Sex         0\n",
      "Age         0\n",
      "SibSp       0\n",
      "Parch       0\n",
      "Fare        0\n",
      "Embarked    0\n",
      "dtype: int64 \n",
      "\n",
      "Pclass      0\n",
      "Sex         0\n",
      "Age         0\n",
      "SibSp       0\n",
      "Parch       0\n",
      "Fare        0\n",
      "Embarked    0\n",
      "dtype: int64\n"
     ]
    }
   ],
   "source": [
    "# 欠損値を全て補完したことを確認する\n",
    "print(train_x.isnull().sum(), '\\n')\n",
    "print(test_x.isnull().sum())"
   ]
  },
  {
   "cell_type": "markdown",
   "id": "c2f6adfa",
   "metadata": {
    "papermill": {
     "duration": 0.071371,
     "end_time": "2022-03-11T17:05:15.490487",
     "exception": false,
     "start_time": "2022-03-11T17:05:15.419116",
     "status": "completed"
    },
    "tags": []
   },
   "source": [
    "以上で欠損値の補完が完了しました。次はカテゴリ変数の変換をします。今回はラベルエンコーディングします。"
   ]
  },
  {
   "cell_type": "code",
   "execution_count": 21,
   "id": "91d86758",
   "metadata": {
    "execution": {
     "iopub.execute_input": "2022-03-11T17:05:15.637419Z",
     "iopub.status.busy": "2022-03-11T17:05:15.636734Z",
     "iopub.status.idle": "2022-03-11T17:05:15.653280Z",
     "shell.execute_reply": "2022-03-11T17:05:15.653915Z",
     "shell.execute_reply.started": "2022-03-11T16:51:20.285509Z"
    },
    "papermill": {
     "duration": 0.091935,
     "end_time": "2022-03-11T17:05:15.654128",
     "exception": false,
     "start_time": "2022-03-11T17:05:15.562193",
     "status": "completed"
    },
    "tags": []
   },
   "outputs": [
    {
     "name": "stdout",
     "output_type": "stream",
     "text": [
      "<class 'pandas.core.frame.DataFrame'>\n",
      "RangeIndex: 891 entries, 0 to 890\n",
      "Data columns (total 7 columns):\n",
      " #   Column    Non-Null Count  Dtype  \n",
      "---  ------    --------------  -----  \n",
      " 0   Pclass    891 non-null    int64  \n",
      " 1   Sex       891 non-null    object \n",
      " 2   Age       891 non-null    float64\n",
      " 3   SibSp     891 non-null    int64  \n",
      " 4   Parch     891 non-null    int64  \n",
      " 5   Fare      891 non-null    float64\n",
      " 6   Embarked  891 non-null    object \n",
      "dtypes: float64(2), int64(3), object(2)\n",
      "memory usage: 48.9+ KB\n",
      "None \n",
      "\n",
      "<class 'pandas.core.frame.DataFrame'>\n",
      "RangeIndex: 418 entries, 0 to 417\n",
      "Data columns (total 7 columns):\n",
      " #   Column    Non-Null Count  Dtype  \n",
      "---  ------    --------------  -----  \n",
      " 0   Pclass    418 non-null    int64  \n",
      " 1   Sex       418 non-null    object \n",
      " 2   Age       418 non-null    float64\n",
      " 3   SibSp     418 non-null    int64  \n",
      " 4   Parch     418 non-null    int64  \n",
      " 5   Fare      418 non-null    float64\n",
      " 6   Embarked  418 non-null    object \n",
      "dtypes: float64(2), int64(3), object(2)\n",
      "memory usage: 23.0+ KB\n",
      "None\n"
     ]
    }
   ],
   "source": [
    "# データの情報の確認\n",
    "print(train_x.info(), '\\n')\n",
    "print(test_x.info())"
   ]
  },
  {
   "cell_type": "markdown",
   "id": "e33a6851",
   "metadata": {
    "papermill": {
     "duration": 0.070637,
     "end_time": "2022-03-11T17:05:15.797146",
     "exception": false,
     "start_time": "2022-03-11T17:05:15.726509",
     "status": "completed"
    },
    "tags": []
   },
   "source": [
    "Dtypeがobjectとなっている変数がカテゴリ変数です。したがって、'Sex'と'Embarked'についてラベルエンコーディングする必要があります。まずは'Sex'についてラベルエンコーディングします。'Sex'に含まれる水準を確認します。"
   ]
  },
  {
   "cell_type": "code",
   "execution_count": 22,
   "id": "cf8ed8bc",
   "metadata": {
    "execution": {
     "iopub.execute_input": "2022-03-11T17:05:15.942848Z",
     "iopub.status.busy": "2022-03-11T17:05:15.942229Z",
     "iopub.status.idle": "2022-03-11T17:05:15.946794Z",
     "shell.execute_reply": "2022-03-11T17:05:15.947332Z",
     "shell.execute_reply.started": "2022-03-11T16:51:20.315018Z"
    },
    "papermill": {
     "duration": 0.079318,
     "end_time": "2022-03-11T17:05:15.947491",
     "exception": false,
     "start_time": "2022-03-11T17:05:15.868173",
     "status": "completed"
    },
    "tags": []
   },
   "outputs": [
    {
     "name": "stdout",
     "output_type": "stream",
     "text": [
      "['male' 'female']\n",
      "['male' 'female']\n"
     ]
    }
   ],
   "source": [
    "print(train_x['Sex'].unique())\n",
    "print(test_x['Sex'].unique())"
   ]
  },
  {
   "cell_type": "markdown",
   "id": "45da4114",
   "metadata": {
    "papermill": {
     "duration": 0.072152,
     "end_time": "2022-03-11T17:05:16.091441",
     "exception": false,
     "start_time": "2022-03-11T17:05:16.019289",
     "status": "completed"
    },
    "tags": []
   },
   "source": [
    "'Sex'カラムにはmale, femaleが含まれることが分かりました。maleは0、femaleは1に変換したいと思います。"
   ]
  },
  {
   "cell_type": "code",
   "execution_count": 23,
   "id": "6a559612",
   "metadata": {
    "execution": {
     "iopub.execute_input": "2022-03-11T17:05:16.239775Z",
     "iopub.status.busy": "2022-03-11T17:05:16.239143Z",
     "iopub.status.idle": "2022-03-11T17:05:16.245360Z",
     "shell.execute_reply": "2022-03-11T17:05:16.245888Z",
     "shell.execute_reply.started": "2022-03-11T16:51:20.324678Z"
    },
    "papermill": {
     "duration": 0.082366,
     "end_time": "2022-03-11T17:05:16.246071",
     "exception": false,
     "start_time": "2022-03-11T17:05:16.163705",
     "status": "completed"
    },
    "tags": []
   },
   "outputs": [],
   "source": [
    "# 'Sex'をマッピング　male:0, female:1\n",
    "sex_mapping = {\"male\":0, \"female\":1}\n",
    "train_x[\"Sex\"] = train_x[\"Sex\"].map(sex_mapping)\n",
    "test_x[\"Sex\"] = test_x[\"Sex\"].map(sex_mapping)"
   ]
  },
  {
   "cell_type": "markdown",
   "id": "54702544",
   "metadata": {
    "papermill": {
     "duration": 0.073063,
     "end_time": "2022-03-11T17:05:16.393787",
     "exception": false,
     "start_time": "2022-03-11T17:05:16.320724",
     "status": "completed"
    },
    "tags": []
   },
   "source": [
    "次に'Embarked'カラムについてラベルエンコーディングします。'Embarked'に含まれる水準を確認します。"
   ]
  },
  {
   "cell_type": "code",
   "execution_count": 24,
   "id": "d8dd98bd",
   "metadata": {
    "execution": {
     "iopub.execute_input": "2022-03-11T17:05:16.544673Z",
     "iopub.status.busy": "2022-03-11T17:05:16.544025Z",
     "iopub.status.idle": "2022-03-11T17:05:16.548794Z",
     "shell.execute_reply": "2022-03-11T17:05:16.549382Z",
     "shell.execute_reply.started": "2022-03-11T16:51:20.339077Z"
    },
    "papermill": {
     "duration": 0.082072,
     "end_time": "2022-03-11T17:05:16.549546",
     "exception": false,
     "start_time": "2022-03-11T17:05:16.467474",
     "status": "completed"
    },
    "tags": []
   },
   "outputs": [
    {
     "name": "stdout",
     "output_type": "stream",
     "text": [
      "['S' 'C' 'Q']\n",
      "['Q' 'S' 'C']\n"
     ]
    }
   ],
   "source": [
    "print(train_x['Embarked'].unique())\n",
    "print(test_x['Embarked'].unique())"
   ]
  },
  {
   "cell_type": "markdown",
   "id": "35226aa2",
   "metadata": {
    "papermill": {
     "duration": 0.071658,
     "end_time": "2022-03-11T17:05:16.693659",
     "exception": false,
     "start_time": "2022-03-11T17:05:16.622001",
     "status": "completed"
    },
    "tags": []
   },
   "source": [
    "'Embarked'カラムにはS, C, Qが含まれることがわかりました。Sは0、Cは1、Qは2に変換したいと思います。"
   ]
  },
  {
   "cell_type": "code",
   "execution_count": 25,
   "id": "0817d592",
   "metadata": {
    "execution": {
     "iopub.execute_input": "2022-03-11T17:05:16.840346Z",
     "iopub.status.busy": "2022-03-11T17:05:16.839630Z",
     "iopub.status.idle": "2022-03-11T17:05:16.846280Z",
     "shell.execute_reply": "2022-03-11T17:05:16.846802Z",
     "shell.execute_reply.started": "2022-03-11T16:51:20.352501Z"
    },
    "papermill": {
     "duration": 0.08163,
     "end_time": "2022-03-11T17:05:16.846994",
     "exception": false,
     "start_time": "2022-03-11T17:05:16.765364",
     "status": "completed"
    },
    "tags": []
   },
   "outputs": [],
   "source": [
    "# Embarkedをマッピング　S:0, C:1, Q:2\n",
    "embarked_mapping = {'S':0, 'C':1, 'Q':2}\n",
    "train_x['Embarked'] = train_x['Embarked'].map(embarked_mapping)\n",
    "test_x['Embarked'] = test_x['Embarked'].map(embarked_mapping)"
   ]
  },
  {
   "cell_type": "markdown",
   "id": "72b1e6b6",
   "metadata": {
    "papermill": {
     "duration": 0.072602,
     "end_time": "2022-03-11T17:05:16.992444",
     "exception": false,
     "start_time": "2022-03-11T17:05:16.919842",
     "status": "completed"
    },
    "tags": []
   },
   "source": [
    "再びデータの情報を確認します。"
   ]
  },
  {
   "cell_type": "code",
   "execution_count": 26,
   "id": "9a7fd391",
   "metadata": {
    "execution": {
     "iopub.execute_input": "2022-03-11T17:05:17.142199Z",
     "iopub.status.busy": "2022-03-11T17:05:17.141583Z",
     "iopub.status.idle": "2022-03-11T17:05:17.159991Z",
     "shell.execute_reply": "2022-03-11T17:05:17.160516Z",
     "shell.execute_reply.started": "2022-03-11T16:51:20.367698Z"
    },
    "papermill": {
     "duration": 0.095229,
     "end_time": "2022-03-11T17:05:17.160677",
     "exception": false,
     "start_time": "2022-03-11T17:05:17.065448",
     "status": "completed"
    },
    "tags": []
   },
   "outputs": [
    {
     "name": "stdout",
     "output_type": "stream",
     "text": [
      "<class 'pandas.core.frame.DataFrame'>\n",
      "RangeIndex: 891 entries, 0 to 890\n",
      "Data columns (total 7 columns):\n",
      " #   Column    Non-Null Count  Dtype  \n",
      "---  ------    --------------  -----  \n",
      " 0   Pclass    891 non-null    int64  \n",
      " 1   Sex       891 non-null    int64  \n",
      " 2   Age       891 non-null    float64\n",
      " 3   SibSp     891 non-null    int64  \n",
      " 4   Parch     891 non-null    int64  \n",
      " 5   Fare      891 non-null    float64\n",
      " 6   Embarked  891 non-null    int64  \n",
      "dtypes: float64(2), int64(5)\n",
      "memory usage: 48.9 KB\n",
      "None \n",
      "\n",
      "<class 'pandas.core.frame.DataFrame'>\n",
      "RangeIndex: 418 entries, 0 to 417\n",
      "Data columns (total 7 columns):\n",
      " #   Column    Non-Null Count  Dtype  \n",
      "---  ------    --------------  -----  \n",
      " 0   Pclass    418 non-null    int64  \n",
      " 1   Sex       418 non-null    int64  \n",
      " 2   Age       418 non-null    float64\n",
      " 3   SibSp     418 non-null    int64  \n",
      " 4   Parch     418 non-null    int64  \n",
      " 5   Fare      418 non-null    float64\n",
      " 6   Embarked  418 non-null    int64  \n",
      "dtypes: float64(2), int64(5)\n",
      "memory usage: 23.0 KB\n",
      "None\n"
     ]
    }
   ],
   "source": [
    "# データの情報の確認\n",
    "print(train_x.info(), '\\n')\n",
    "print(test_x.info())"
   ]
  },
  {
   "cell_type": "markdown",
   "id": "104b5157",
   "metadata": {
    "papermill": {
     "duration": 0.075956,
     "end_time": "2022-03-11T17:05:17.310298",
     "exception": false,
     "start_time": "2022-03-11T17:05:17.234342",
     "status": "completed"
    },
    "tags": []
   },
   "source": [
    "全ての変数を数値変数に変換できたことが分かります。最後に数値変数を標準化します。"
   ]
  },
  {
   "cell_type": "code",
   "execution_count": 27,
   "id": "42552572",
   "metadata": {
    "execution": {
     "iopub.execute_input": "2022-03-11T17:05:17.473120Z",
     "iopub.status.busy": "2022-03-11T17:05:17.472381Z",
     "iopub.status.idle": "2022-03-11T17:05:17.481992Z",
     "shell.execute_reply": "2022-03-11T17:05:17.482528Z",
     "shell.execute_reply.started": "2022-03-11T16:51:20.399253Z"
    },
    "papermill": {
     "duration": 0.086185,
     "end_time": "2022-03-11T17:05:17.482698",
     "exception": false,
     "start_time": "2022-03-11T17:05:17.396513",
     "status": "completed"
    },
    "tags": []
   },
   "outputs": [],
   "source": [
    "# 標準化\n",
    "scaler = preprocessing.StandardScaler()\n",
    "scaler.fit(train_x)\n",
    "train_x = scaler.transform(train_x)\n",
    "test_x = scaler.transform(test_x)"
   ]
  },
  {
   "cell_type": "markdown",
   "id": "52956d55",
   "metadata": {
    "papermill": {
     "duration": 0.07174,
     "end_time": "2022-03-11T17:05:17.627371",
     "exception": false,
     "start_time": "2022-03-11T17:05:17.555631",
     "status": "completed"
    },
    "tags": []
   },
   "source": [
    "# 3. モデリング"
   ]
  },
  {
   "cell_type": "markdown",
   "id": "76c56a8c",
   "metadata": {
    "papermill": {
     "duration": 0.071519,
     "end_time": "2022-03-11T17:05:17.771065",
     "exception": false,
     "start_time": "2022-03-11T17:05:17.699546",
     "status": "completed"
    },
    "tags": []
   },
   "source": [
    "性能を評価するには、データの分割をする必要があります。今回は分類タスクなので、層化交差検証を用います。"
   ]
  },
  {
   "cell_type": "code",
   "execution_count": 28,
   "id": "50741a12",
   "metadata": {
    "execution": {
     "iopub.execute_input": "2022-03-11T17:05:17.919264Z",
     "iopub.status.busy": "2022-03-11T17:05:17.918540Z",
     "iopub.status.idle": "2022-03-11T17:05:17.922089Z",
     "shell.execute_reply": "2022-03-11T17:05:17.922627Z",
     "shell.execute_reply.started": "2022-03-11T16:51:20.417219Z"
    },
    "papermill": {
     "duration": 0.079577,
     "end_time": "2022-03-11T17:05:17.922811",
     "exception": false,
     "start_time": "2022-03-11T17:05:17.843234",
     "status": "completed"
    },
    "tags": []
   },
   "outputs": [],
   "source": [
    "# 分割方法の指定\n",
    "skf = model_selection.StratifiedKFold(n_splits=5, shuffle=True, random_state=0)"
   ]
  },
  {
   "cell_type": "code",
   "execution_count": 29,
   "id": "dd384985",
   "metadata": {
    "execution": {
     "iopub.execute_input": "2022-03-11T17:05:18.076261Z",
     "iopub.status.busy": "2022-03-11T17:05:18.075555Z",
     "iopub.status.idle": "2022-03-11T17:05:18.110661Z",
     "shell.execute_reply": "2022-03-11T17:05:18.110153Z",
     "shell.execute_reply.started": "2022-03-11T16:51:20.428304Z"
    },
    "papermill": {
     "duration": 0.114602,
     "end_time": "2022-03-11T17:05:18.110792",
     "exception": false,
     "start_time": "2022-03-11T17:05:17.996190",
     "status": "completed"
    },
    "tags": []
   },
   "outputs": [
    {
     "data": {
      "text/plain": [
       "0.7945828887075513"
      ]
     },
     "execution_count": 29,
     "metadata": {},
     "output_type": "execute_result"
    }
   ],
   "source": [
    "# モデルの作成と評価(RidgeClassifier)\n",
    "rc = linear_model.RidgeClassifier(random_state=0)\n",
    "rc_results = model_selection.cross_validate(rc, train_x, train_y, scoring='accuracy', cv=skf)\n",
    "rc_results['test_score'].mean()"
   ]
  },
  {
   "cell_type": "code",
   "execution_count": 30,
   "id": "44d635fc",
   "metadata": {
    "execution": {
     "iopub.execute_input": "2022-03-11T17:05:18.262854Z",
     "iopub.status.busy": "2022-03-11T17:05:18.262258Z",
     "iopub.status.idle": "2022-03-11T17:05:19.405699Z",
     "shell.execute_reply": "2022-03-11T17:05:19.406268Z",
     "shell.execute_reply.started": "2022-03-11T16:51:20.468881Z"
    },
    "papermill": {
     "duration": 1.221999,
     "end_time": "2022-03-11T17:05:19.406435",
     "exception": false,
     "start_time": "2022-03-11T17:05:18.184436",
     "status": "completed"
    },
    "tags": []
   },
   "outputs": [
    {
     "data": {
      "text/plain": [
       "0.8102943945766116"
      ]
     },
     "execution_count": 30,
     "metadata": {},
     "output_type": "execute_result"
    }
   ],
   "source": [
    "# モデルの作成と評価(RandomForestClassifier)\n",
    "rfc = ensemble.RandomForestClassifier(random_state=0)\n",
    "rfc_results = model_selection.cross_validate(rfc, train_x, train_y, scoring='accuracy', cv=skf)\n",
    "rfc_results['test_score'].mean()"
   ]
  },
  {
   "cell_type": "code",
   "execution_count": 31,
   "id": "11e39142",
   "metadata": {
    "execution": {
     "iopub.execute_input": "2022-03-11T17:05:19.558584Z",
     "iopub.status.busy": "2022-03-11T17:05:19.557898Z",
     "iopub.status.idle": "2022-03-11T17:05:30.323734Z",
     "shell.execute_reply": "2022-03-11T17:05:30.323172Z",
     "shell.execute_reply.started": "2022-03-11T16:51:21.700461Z"
    },
    "papermill": {
     "duration": 10.843155,
     "end_time": "2022-03-11T17:05:30.323867",
     "exception": false,
     "start_time": "2022-03-11T17:05:19.480712",
     "status": "completed"
    },
    "tags": []
   },
   "outputs": [
    {
     "name": "stdout",
     "output_type": "stream",
     "text": [
      "最もよいパラメータ:  {'max_depth': 5, 'n_estimators': 50}\n",
      "検証データの平均値:  0.8215177954930638\n"
     ]
    }
   ],
   "source": [
    "# モデルの作成と評価 - チューニングあり(RandomForestClassifier)\n",
    "# ハイパーパラメータ\n",
    "param_grid = {\n",
    "    'n_estimators': [50, 100, 200],\n",
    "    'max_depth': [None, 2, 5],\n",
    "}\n",
    "\n",
    "tune_rfc = model_selection.GridSearchCV(rfc, param_grid=param_grid, scoring = 'accuracy', \n",
    "                                        cv = skf)\n",
    "                                        \n",
    "                                        \n",
    "tune_rfc.fit(train_x, train_y)\n",
    "print(\"最もよいパラメータ: \", tune_rfc.best_params_)\n",
    "print(\"検証データの平均値: \", tune_rfc.cv_results_['mean_test_score'][tune_rfc.best_index_])"
   ]
  },
  {
   "cell_type": "code",
   "execution_count": 32,
   "id": "1fa7c27d",
   "metadata": {
    "execution": {
     "iopub.execute_input": "2022-03-11T17:05:30.478918Z",
     "iopub.status.busy": "2022-03-11T17:05:30.478274Z",
     "iopub.status.idle": "2022-03-11T17:05:30.484611Z",
     "shell.execute_reply": "2022-03-11T17:05:30.485166Z",
     "shell.execute_reply.started": "2022-03-11T16:51:33.556760Z"
    },
    "papermill": {
     "duration": 0.08659,
     "end_time": "2022-03-11T17:05:30.485327",
     "exception": false,
     "start_time": "2022-03-11T17:05:30.398737",
     "status": "completed"
    },
    "tags": []
   },
   "outputs": [
    {
     "data": {
      "text/plain": [
       "RandomForestClassifier(max_depth=5, n_estimators=50, random_state=0)"
      ]
     },
     "execution_count": 32,
     "metadata": {},
     "output_type": "execute_result"
    }
   ],
   "source": [
    "tune_rfc.best_estimator_"
   ]
  },
  {
   "cell_type": "markdown",
   "id": "73e02e88",
   "metadata": {
    "papermill": {
     "duration": 0.074243,
     "end_time": "2022-03-11T17:05:30.633705",
     "exception": false,
     "start_time": "2022-03-11T17:05:30.559462",
     "status": "completed"
    },
    "tags": []
   },
   "source": [
    "# 4. 提出物の作成"
   ]
  },
  {
   "cell_type": "code",
   "execution_count": 33,
   "id": "251b5d70",
   "metadata": {
    "execution": {
     "iopub.execute_input": "2022-03-11T17:05:30.786574Z",
     "iopub.status.busy": "2022-03-11T17:05:30.785937Z",
     "iopub.status.idle": "2022-03-11T17:05:30.894385Z",
     "shell.execute_reply": "2022-03-11T17:05:30.894873Z",
     "shell.execute_reply.started": "2022-03-11T16:51:33.567403Z"
    },
    "papermill": {
     "duration": 0.186498,
     "end_time": "2022-03-11T17:05:30.895066",
     "exception": false,
     "start_time": "2022-03-11T17:05:30.708568",
     "status": "completed"
    },
    "tags": []
   },
   "outputs": [],
   "source": [
    "# 学習データ全体でモデルの学習をする\n",
    "tune_rfc.best_estimator_.fit(train_x, train_y)\n",
    "\n",
    "# テストデータに対して予測する\n",
    "predict = tune_rfc.best_estimator_.predict(test_x)"
   ]
  },
  {
   "cell_type": "code",
   "execution_count": 34,
   "id": "c47382b8",
   "metadata": {
    "execution": {
     "iopub.execute_input": "2022-03-11T17:05:31.049834Z",
     "iopub.status.busy": "2022-03-11T17:05:31.049177Z",
     "iopub.status.idle": "2022-03-11T17:05:31.056832Z",
     "shell.execute_reply": "2022-03-11T17:05:31.057398Z",
     "shell.execute_reply.started": "2022-03-11T16:51:33.699966Z"
    },
    "papermill": {
     "duration": 0.086741,
     "end_time": "2022-03-11T17:05:31.057644",
     "exception": false,
     "start_time": "2022-03-11T17:05:30.970903",
     "status": "completed"
    },
    "tags": []
   },
   "outputs": [],
   "source": [
    "# 提出用ファイルの作成\n",
    "submit = pd.DataFrame({'PassengerId': test['PassengerId'], 'Survived': predict})\n",
    "submit.to_csv('../output/submit_1.csv', index=False)"
   ]
  },
  {
   "cell_type": "code",
   "execution_count": null,
   "id": "2cfc4ef8",
   "metadata": {},
   "outputs": [],
   "source": []
  }
 ],
 "metadata": {
  "kernelspec": {
   "display_name": "Python 3",
   "language": "python",
   "name": "python3"
  },
  "language_info": {
   "codemirror_mode": {
    "name": "ipython",
    "version": 3
   },
   "file_extension": ".py",
   "mimetype": "text/x-python",
   "name": "python",
   "nbconvert_exporter": "python",
   "pygments_lexer": "ipython3",
   "version": "3.8.5"
  },
  "papermill": {
   "default_parameters": {},
   "duration": 34.786242,
   "end_time": "2022-03-11T17:05:32.046628",
   "environment_variables": {},
   "exception": null,
   "input_path": "__notebook__.ipynb",
   "output_path": "__notebook__.ipynb",
   "parameters": {},
   "start_time": "2022-03-11T17:04:57.260386",
   "version": "2.3.3"
  }
 },
 "nbformat": 4,
 "nbformat_minor": 5
}
